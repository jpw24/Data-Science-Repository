{
  "cells": [
    {
      "cell_type": "markdown",
      "source": [
        "# Fraudulent Transaction Monitoring\n",
        "\n",
        "This notebook provides an end-to-end approach to fraud detection in credit card transactions.\n",
        "\n",
        "This data comes from Kaggle, and you can access the link here:\n",
        "https://www.kaggle.com/datasets/mlg-ulb/creditcardfraud\n",
        "\n",
        "Thank you for visiting my page!"
      ],
      "metadata": {
        "noteable": {
          "cell_type": "markdown"
        }
      },
      "id": "657557ee"
    },
    {
      "cell_type": "markdown",
      "source": [
        "# Analytical Steps\n",
        "\n",
        "Below are the steps I take to conduct this analysis.\n",
        "\n",
        "* <b>Step 1:</b> Packages and Dataset Import\n",
        "* <b>Step 2:</b> Target, Predictors, and Time Series Split\n",
        "* <b>Step 3:</b> Exploratory Data Analysis\n",
        "* <b>Step 4:</b> Baseline Model Development\n"
      ],
      "metadata": {
        "noteable": {
          "cell_type": "markdown"
        }
      },
      "id": "ca61cd1c-089d-4458-931d-953345258936"
    },
    {
      "cell_type": "markdown",
      "source": [
        "# Step 1. Packages and Dataset Import"
      ],
      "metadata": {
        "noteable": {
          "cell_type": "markdown"
        }
      },
      "id": "b39ada01-46e4-4712-9d90-dd22cc6edbef"
    },
    {
      "cell_type": "code",
      "source": [
        "####Import required python packages\n",
        "from collections import Counter\n",
        "from matplotlib import pyplot as plt\n",
        "import plotly.express as px\n",
        "import seaborn as sb\n",
        "\n",
        "import numpy as np\n",
        "import pandas as pd\n",
        "\n",
        "import sklearn as sklearn\n",
        "from sklearn.model_selection import train_test_split,TimeSeriesSplit\n",
        "from sklearn.tree import DecisionTreeClassifier\n",
        "from sklearn.metrics import precision_score,recall_score,f1_score,classification_report\n",
        "from sklearn.linear_model import LogisticRegression\n",
        "from sklearn.datasets import make_classification\n",
        "from sklearn.ensemble import RandomForestClassifier, GradientBoostingClassifier\n",
        "from sklearn.neighbors import KNeighborsClassifier\n",
        "from sklearn.preprocessing import StandardScaler,RobustScaler\n",
        "\n",
        "# Oversampling and under sampling\n",
        "# from imblearn.over_sampling import RandomOverSampler, SMOTE\n",
        "# from imblearn.under_sampling import RandomUnderSampler, NearMiss\n",
        "\n",
        "import scipy.stats as stats"
      ],
      "outputs": [],
      "execution_count": null,
      "metadata": {
        "noteable": {
          "cell_type": "python"
        },
        "ExecuteTime": {
          "start_time": "2023-02-02T21:53:04.334357+00:00",
          "end_time": "2023-02-02T21:53:07.340517+00:00"
        }
      },
      "id": "6b53a7bd-44c7-4479-b8ed-e03b45141bb4"
    },
    {
      "cell_type": "code",
      "source": [
        "%%sql @noteable\n",
        "/*Using SQL to query the dataset*/\n",
        "SELECT*\n",
        "FROM 'Scratch Data Sets, Articles and Ideas/Credit Card Fraud.csv'"
      ],
      "outputs": [],
      "execution_count": null,
      "metadata": {
        "noteable": {
          "assign_results_to": "sql_df_1",
          "cell_type": "sql",
          "db_connection": "@noteable"
        },
        "ExecuteTime": null
      },
      "id": "f6be3a4e-f15b-4cc7-9b7a-f17d88fa8e5c"
    },
    {
      "cell_type": "code",
      "source": [
        "##read in the data set using pandas\n",
        "fraud_df=pd.read_csv(r\"Scratch Data Sets, Articles and Ideas/Credit Card Fraud.csv\")"
      ],
      "outputs": [],
      "execution_count": null,
      "metadata": {
        "jupyter": {
          "outputs_hidden": false,
          "source_hidden": false
        },
        "noteable": {
          "cell_type": "code"
        },
        "ExecuteTime": {
          "start_time": "2023-02-02T21:53:14.531706+00:00",
          "end_time": "2023-02-02T21:53:16.535633+00:00"
        },
        "dx": {
          "dashboard": {
            "multiViews": []
          },
          "fieldMetadata": {},
          "updated": 1674933880379,
          "views": [
            {
              "annotationRules": [],
              "chart": {},
              "chartMode": "grid",
              "confoRules": [],
              "decoration": {
                "footer": "",
                "subtitle": "",
                "title": "Table"
              },
              "facets": [],
              "filterSettings": {
                "SHOW_FILTER_PANEL": true,
                "filters": []
              },
              "id": "first-view",
              "isDefault": true,
              "type": "public",
              "userID": ""
            },
            {
              "annotationRules": [],
              "chart": {},
              "chartMode": "grid",
              "confoRules": [],
              "decoration": {
                "footer": "",
                "subtitle": "",
                "title": "Table"
              },
              "facets": [],
              "filterSettings": {
                "SHOW_FILTER_PANEL": true,
                "filters": []
              },
              "id": "first-view",
              "isDefault": true,
              "isTransitory": true,
              "type": "public",
              "userID": ""
            }
          ]
        }
      },
      "id": "5e2de7de-2114-42af-9130-647f008fa155"
    },
    {
      "cell_type": "code",
      "source": [
        "fraud_df.set_index('Time',inplace=True)\n",
        "fraud_df.sort_index(inplace=True)\n",
        "\n",
        "y=fraud_df['Class']\n",
        "X=fraud_df.drop(labels='Class',axis=1)"
      ],
      "outputs": [],
      "execution_count": null,
      "metadata": {
        "noteable": {
          "cell_type": "python"
        },
        "ExecuteTime": {
          "start_time": "2023-02-02T21:53:21.573501+00:00",
          "end_time": "2023-02-02T21:53:21.774682+00:00"
        }
      },
      "id": "0491b2e1-2726-420d-93f3-7f4d50f4f406"
    },
    {
      "cell_type": "markdown",
      "source": [
        "# Step 2. Target, Predictors, and Time Series Split\n",
        "\n",
        "The <b>Time</b> column contains the time at which the transaction was completed. This is the column on which we will divide our train and test samples, because this mirrors how we will detect fraud in reality.\n",
        "\n",
        "Additionally, the <b>Class</b> column contains the fraud indicator. We notice this is imbalanced so we may have to adjust our sample to achieve reasonable model performance scores.\n",
        "\n",
        "We will set <b>Time</b> as the index of the dataframe and <b>Class</b> as the Y variable."
      ],
      "metadata": {
        "noteable": {
          "cell_type": "markdown"
        }
      },
      "id": "9ffbda1d-263d-4555-a8f5-d74f0968e495"
    },
    {
      "cell_type": "markdown",
      "source": [
        "First we'll create a train and test time-series split on the sample."
      ],
      "metadata": {
        "noteable": {
          "cell_type": "markdown"
        }
      },
      "id": "753c296a-df02-4d0d-9601-0098f2ac8ae0"
    },
    {
      "cell_type": "code",
      "source": [
        "tss=TimeSeriesSplit(n_splits=2)\n",
        "\n",
        "train_split_indices,test_split_indices=tss.split(X)\n",
        "X_train,X_test=X.iloc[train_split_indices[1],:],X.iloc[test_split_indices[1],:]\n",
        "y_train,y_test=y.iloc[train_split_indices[1]],y.iloc[test_split_indices[1]]"
      ],
      "outputs": [],
      "execution_count": null,
      "metadata": {
        "jupyter": {
          "outputs_hidden": false,
          "source_hidden": false
        },
        "noteable": {
          "cell_type": "code"
        },
        "ExecuteTime": {
          "start_time": "2023-02-02T22:24:58.427283+00:00",
          "end_time": "2023-02-02T22:24:58.597019+00:00"
        }
      },
      "id": "a07025d0-e74d-4ae8-b99f-a38c8576cc1e"
    },
    {
      "cell_type": "markdown",
      "source": [
        "We can see this time series split in a plot below."
      ],
      "metadata": {
        "noteable": {
          "cell_type": "markdown"
        }
      },
      "id": "b41b823f-564b-405b-9309-f34d665749e2"
    },
    {
      "cell_type": "code",
      "source": [
        "y_train.groupby('Time').mean().plot()\n",
        "y_test.groupby('Time').mean().plot()"
      ],
      "outputs": [],
      "execution_count": null,
      "metadata": {
        "noteable": {
          "cell_type": "python"
        },
        "ExecuteTime": {
          "end_time": "2023-02-01T01:32:48.751046+00:00",
          "start_time": "2023-02-01T01:32:48.288982+00:00"
        },
        "jupyter": {
          "outputs_hidden": false
        }
      },
      "id": "21308ed9-5f44-4542-9054-8f1d49555a98"
    },
    {
      "cell_type": "markdown",
      "source": [
        "Now we'll create the time series cross-validation splits on the sample. We will use this for hyperparameter tuning after we make a model selection"
      ],
      "metadata": {
        "noteable": {
          "cell_type": "markdown"
        }
      },
      "id": "7d768bab-9d22-4165-b59d-d4b5597d50f8"
    },
    {
      "cell_type": "code",
      "source": [
        "##TIME SERIES CROSS VALIDATION\n",
        "cross_val_tss=TimeSeriesSplit(n_splits=5)\n",
        "\n",
        "##these are the 5 folds we created based on the time\n",
        "for i, (train_index, test_index) in enumerate(cross_val_tss.split(X)):\n",
        "    print(f\"Fold {i}:\")\n",
        "    print(f\"  Train: index={train_index}\")\n",
        "    print(f\"  Test:  index={test_index}\")\n"
      ],
      "outputs": [],
      "execution_count": null,
      "metadata": {
        "jupyter": {
          "outputs_hidden": false,
          "source_hidden": false
        },
        "noteable": {
          "cell_type": "code"
        },
        "ExecuteTime": {
          "start_time": "2023-02-02T22:12:57.720885+00:00",
          "end_time": "2023-02-02T22:12:57.879590+00:00"
        }
      },
      "id": "ca6d56c3-c6c1-4c02-9ab9-811f66f34de3"
    },
    {
      "cell_type": "markdown",
      "source": [
        "# Step 3. Exploratory Data Analysis\n",
        "I will now begin conducting the exploratory data analysis phase. I will begin understanding the basis of the data, missing values, anomalies and what each column represents."
      ],
      "metadata": {
        "noteable": {
          "cell_type": "markdown"
        }
      },
      "id": "654754f2-f1bb-41bf-8f40-c320d79b5aea"
    },
    {
      "cell_type": "code",
      "source": [
        "fraud_df.describe()"
      ],
      "outputs": [],
      "execution_count": null,
      "metadata": {
        "noteable": {
          "cell_type": "python"
        },
        "ExecuteTime": {
          "end_time": "2023-02-01T01:23:13.526464+00:00",
          "start_time": "2023-02-01T01:23:12.900037+00:00"
        },
        "jupyter": {
          "outputs_hidden": true
        }
      },
      "id": "ce139d58-7ca2-41d7-a4ce-612873a1a20f"
    },
    {
      "cell_type": "code",
      "source": [
        "##Checking for missing values\n",
        "fraud_df.isnull().values.any()"
      ],
      "outputs": [],
      "execution_count": null,
      "metadata": {
        "jupyter": {
          "outputs_hidden": false,
          "source_hidden": false
        },
        "noteable": {
          "cell_type": "code"
        },
        "ExecuteTime": {
          "end_time": "2023-02-01T01:23:21.056938+00:00",
          "start_time": "2023-02-01T01:23:20.888442+00:00"
        }
      },
      "id": "0e0774c2-88c9-4519-8c0a-5da5d4e849d5"
    },
    {
      "cell_type": "markdown",
      "source": [
        "There are no missing values."
      ],
      "metadata": {
        "noteable": {
          "cell_type": "markdown"
        }
      },
      "id": "2e58faa5-397b-48de-a2ca-edc5f6ac3bab"
    },
    {
      "cell_type": "code",
      "source": [
        "fraud_df.shape"
      ],
      "outputs": [],
      "execution_count": null,
      "metadata": {
        "jupyter": {
          "outputs_hidden": false,
          "source_hidden": false
        },
        "noteable": {
          "cell_type": "code"
        },
        "ExecuteTime": {
          "end_time": "2023-02-01T01:23:25.049910+00:00",
          "start_time": "2023-02-01T01:23:24.891128+00:00"
        }
      },
      "id": "e9413f24-daef-45f6-b847-8ec6c670ded1"
    },
    {
      "cell_type": "code",
      "source": [
        "fraud_df.columns"
      ],
      "outputs": [],
      "execution_count": null,
      "metadata": {
        "jupyter": {
          "outputs_hidden": false,
          "source_hidden": false
        },
        "noteable": {
          "cell_type": "code"
        },
        "ExecuteTime": {
          "end_time": "2023-02-01T01:23:38.057589+00:00",
          "start_time": "2023-02-01T01:23:37.900348+00:00"
        }
      },
      "id": "a5609bf2-479e-403c-986a-738b720a3eb1"
    },
    {
      "cell_type": "markdown",
      "source": [
        "<b>Observations</b>:\n",
        "It appears that there are no discrete variables and no missing values. Because we do not have the variable names (they were removed), we cannot make any judgements about these columns. Additionally, we want to retain each outlier, because it could be an indicator of fraudulent activity."
      ],
      "metadata": {
        "noteable": {
          "cell_type": "markdown"
        }
      },
      "id": "466c6e80-9ab5-42d7-bf1e-88f070b0ff4b"
    },
    {
      "cell_type": "markdown",
      "source": [
        "## Correlations Between Features\n",
        "We'll now understand the correlations between features, as well as between each feature and the target variable."
      ],
      "metadata": {
        "noteable": {
          "cell_type": "markdown"
        }
      },
      "id": "fef5d3c0-208f-4ed6-b045-c499d12ecc97"
    },
    {
      "cell_type": "code",
      "source": [
        "fraud_df.corr()"
      ],
      "outputs": [],
      "execution_count": null,
      "metadata": {
        "noteable": {
          "cell_type": "python"
        },
        "ExecuteTime": {
          "end_time": "2023-02-01T01:31:43.188571+00:00",
          "start_time": "2023-02-01T01:31:42.242228+00:00"
        },
        "dx": {
          "dashboard": {
            "multiViews": []
          },
          "fieldMetadata": {},
          "updated": 1675132826563,
          "views": [
            {
              "annotationRules": [],
              "chart": {
                "tableSparklines": false,
                "tableStatistics": false
              },
              "chartMode": "grid",
              "confoRules": [],
              "decoration": {
                "footer": "",
                "subtitle": "",
                "title": "Table"
              },
              "facets": [],
              "filterSettings": {
                "SHOW_FILTER_PANEL": true,
                "filters": []
              },
              "id": "first-view",
              "isComment": false,
              "isDefault": true,
              "isTransitory": false,
              "type": "public",
              "userID": ""
            }
          ]
        },
        "jupyter": {
          "outputs_hidden": false
        }
      },
      "id": "30af3e4f-5478-42c4-8302-160e9026b065"
    },
    {
      "cell_type": "markdown",
      "source": [
        "Now we can observe correlations through a heatmap."
      ],
      "metadata": {
        "noteable": {
          "cell_type": "markdown"
        }
      },
      "id": "21669d06-d469-42e9-a9ef-077259af24e2"
    },
    {
      "cell_type": "code",
      "source": [
        "dataplot= sb.heatmap(fraud_df.corr(),cmap=\"YlGnBu\",cbar=False)\n",
        "plt.show()"
      ],
      "outputs": [],
      "execution_count": null,
      "metadata": {
        "jupyter": {
          "outputs_hidden": false,
          "source_hidden": false
        },
        "noteable": {
          "cell_type": "code"
        },
        "ExecuteTime": {
          "start_time": "2023-02-02T21:53:39.578138+00:00",
          "end_time": "2023-02-02T21:53:41.123991+00:00"
        },
        "scrolled": false
      },
      "id": "24a95cb6-8924-4c49-bd16-449ec8902ddb"
    },
    {
      "cell_type": "markdown",
      "source": [
        "We note that there is not much correlation between the \"V...\" features. However, several of the features correlate with <b>Amount</b> and <b>Class</b> (which is our target).\n",
        "\n",
        "Before we move to selecting the features that have high correlations with the target, we are going to standardize every feature. Because we will likely have outliers, we need to use a scaling approach that can be robust to outliers. We will use the <b>RobustScaler</b> approach."
      ],
      "metadata": {
        "noteable": {
          "cell_type": "markdown"
        }
      },
      "id": "9f0d60dd-5531-4cd4-8d46-7953eb68c7d3"
    },
    {
      "cell_type": "code",
      "source": [
        "robust_scaler_train=RobustScaler()\n",
        "robust_scaler_test=RobustScaler()\n",
        "\n",
        "X_train_standardized=robust_scaler_train.fit_transform(X_train)\n",
        "X_train_standardized = pd.DataFrame(X_train_standardized, columns=X_train.columns)\n",
        "\n",
        "X_test_standardized=robust_scaler_test.fit_transform(X_test)\n",
        "X_test_standardized = pd.DataFrame(X_test_standardized, columns=X_test.columns)\n"
      ],
      "outputs": [],
      "execution_count": null,
      "metadata": {
        "noteable": {
          "cell_type": "python"
        },
        "ExecuteTime": {
          "start_time": "2023-02-02T22:25:03.427426+00:00",
          "end_time": "2023-02-02T22:25:03.874879+00:00"
        }
      },
      "id": "8840111d-4462-48b5-a65f-bc212b17bb28"
    },
    {
      "cell_type": "markdown",
      "source": [
        "Now we will assess correlation of these features with the target variable, using the point-biserial correlation coefficient, which assesses correlation between a categorical variable and continuous variables. We will set a threshold of <b>.2 as the minimum correlation for a feature to be considered in our model</b>. We may adjust this value later."
      ],
      "metadata": {
        "noteable": {
          "cell_type": "markdown"
        }
      },
      "id": "7d40158a-2a18-4025-a946-7e5215ab2ba2"
    },
    {
      "cell_type": "code",
      "source": [
        "\n",
        "point_bi_serial_list=X_train_standardized\n",
        "point_bi_serial_threshold = .2\n",
        "pointbiserialr=stats.pointbiserialr\n",
        "corr_data=pd.DataFrame()\n",
        "for i in point_bi_serial_list:\n",
        "    pbc=pointbiserialr(y_train,X_train_standardized[i])\n",
        "    corr_temp_data=[[i,pbc.correlation,\"point_bi_serial\"]]\n",
        "    corr_temp_df=pd.DataFrame(corr_temp_data,columns=['Feature','Correlation','Correlation_Type'])\n",
        "    corr_data=corr_data.append(corr_temp_df)\n",
        "\n",
        "# Filter NA and sort based on absolute correlation\n",
        "corr_data = corr_data.iloc[corr_data.Correlation.abs().argsort()]\n",
        "corr_data = corr_data[corr_data['Correlation'].notna()]\n",
        "corr_data = corr_data.loc[corr_data['Correlation'] != 1]\n",
        "\n",
        "# Add thresholds\n",
        "\n",
        "# initialize list of lists\n",
        "data = [['point_bi_serial', point_bi_serial_threshold]]\n",
        "threshold_df=pd.DataFrame(data,columns=[\"Correlation_Type\",\"Threshold\"])\n",
        "corr_data=pd.merge(corr_data,threshold_df,on=[\"Correlation_Type\"],how=\"left\")\n",
        "corr_data2 = corr_data.loc[corr_data['Correlation'].abs() > corr_data['Threshold']]\n",
        "corr_top_features = corr_data2['Feature'].tolist()\n",
        "\n",
        "corr_top_features"
      ],
      "outputs": [],
      "execution_count": null,
      "metadata": {
        "jupyter": {
          "outputs_hidden": false,
          "source_hidden": false
        },
        "noteable": {
          "cell_type": "code"
        },
        "ExecuteTime": {
          "start_time": "2023-02-02T22:25:16.249285+00:00",
          "end_time": "2023-02-02T22:25:17.323114+00:00"
        }
      },
      "id": "5962825d-b428-4a5c-8e8c-b5af8a1a4fc5"
    },
    {
      "cell_type": "markdown",
      "source": [
        "Now, we'll use the feature scaling to create some boxplots that demonstrate the relationship between each feature and our target. First we have to convert <b>y_train</b> to a categorical variable."
      ],
      "metadata": {
        "noteable": {
          "cell_type": "markdown"
        }
      },
      "id": "6edaf4ad-679e-48a0-809e-16fe343b05d6"
    },
    {
      "cell_type": "code",
      "source": [
        "corr_train=X_train_standardized\n",
        "corr_train['Class']=y_train"
      ],
      "outputs": [],
      "execution_count": null,
      "metadata": {
        "jupyter": {
          "outputs_hidden": false,
          "source_hidden": false
        },
        "noteable": {
          "cell_type": "code"
        },
        "ExecuteTime": {
          "start_time": "2023-02-02T22:25:22.280856+00:00",
          "end_time": "2023-02-02T22:25:22.861898+00:00"
        },
        "scrolled": false,
        "dx": {
          "dashboard": {
            "multiViews": []
          },
          "fieldMetadata": {
            "Class": {
              "columnPosition": 2
            },
            "Time": {
              "columnPosition": 1
            }
          },
          "updated": 1675304681889,
          "views": [
            {
              "annotationRules": [],
              "chart": {},
              "chartMode": "grid",
              "confoRules": [],
              "decoration": {
                "footer": "",
                "subtitle": "",
                "title": "Table"
              },
              "facets": [],
              "filterSettings": {
                "SHOW_FILTER_PANEL": true,
                "filters": []
              },
              "id": "first-view",
              "isDefault": true,
              "type": "public",
              "userID": ""
            },
            {
              "annotationRules": [],
              "chart": {},
              "chartMode": "grid",
              "confoRules": [],
              "decoration": {
                "footer": "",
                "subtitle": "",
                "title": "Table"
              },
              "facets": [],
              "filterSettings": {
                "SHOW_FILTER_PANEL": true,
                "filters": []
              },
              "id": "first-view",
              "isDefault": true,
              "isTransitory": true,
              "type": "public",
              "userID": ""
            }
          ]
        }
      },
      "id": "86768b92-852f-4feb-a2a7-99f61d1175bf"
    },
    {
      "cell_type": "code",
      "source": [
        "class_nf = corr_train[corr_train['Class'] == 0]\n",
        "class_f = corr_train[corr_train['Class'] == 1]"
      ],
      "outputs": [],
      "execution_count": null,
      "metadata": {
        "jupyter": {
          "source_hidden": false,
          "outputs_hidden": false
        },
        "noteable": {
          "cell_type": "code"
        },
        "ExecuteTime": {
          "start_time": "2023-02-02T22:24:37.404420+00:00",
          "end_time": "2023-02-02T22:24:37.575391+00:00"
        },
        "datalink": {
          "90385e5d-29ed-4660-9b17-a3d319684fbf": {
            "dataframe_info": {
              "default_index_used": true,
              "orig_size_bytes": 3630088,
              "orig_num_rows": 94782,
              "orig_num_cols": 1,
              "truncated_size_bytes": 800000,
              "truncated_num_rows": 50000,
              "truncated_num_cols": 1
            },
            "dx_settings": {
              "LOG_LEVEL": 30,
              "DEV_MODE": false,
              "DISPLAY_MAX_ROWS": 50000,
              "DISPLAY_MAX_COLUMNS": 100,
              "HTML_TABLE_SCHEMA": false,
              "MAX_RENDER_SIZE_BYTES": 104857600,
              "SAMPLING_FACTOR": 0.1,
              "DISPLAY_MODE": "simple",
              "SAMPLING_METHOD": "random",
              "COLUMN_SAMPLING_METHOD": "outer",
              "ROW_SAMPLING_METHOD": "random",
              "RANDOM_STATE": 12648430,
              "RESET_INDEX_VALUES": false,
              "FLATTEN_INDEX_VALUES": false,
              "FLATTEN_COLUMN_VALUES": true,
              "STRINGIFY_INDEX_VALUES": false,
              "STRINGIFY_COLUMN_VALUES": true,
              "ENABLE_DATALINK": true,
              "ENABLE_RENAMER": true,
              "ENABLE_ASSIGNMENT": false,
              "NUM_PAST_SAMPLES_TRACKED": 3,
              "DB_LOCATION": ":memory:",
              "GENERATE_DEX_METADATA": false,
              "ALLOW_NOTEABLE_ATTRS": true
            },
            "display_id": "90385e5d-29ed-4660-9b17-a3d319684fbf",
            "applied_filters": [],
            "sample_history": [],
            "sampling_time": "2023-02-02T21:55:57.282065",
            "variable_name": "unk_dataframe_0ceb3cb65a4a450ea8d9b2dc6c52113b"
          },
          "837be5bf-3289-458a-bd01-d6910d0bafce": {
            "dataframe_info": {
              "default_index_used": true,
              "orig_size_bytes": 108,
              "orig_num_rows": 0,
              "orig_num_cols": 1,
              "truncated_size_bytes": 108,
              "truncated_num_rows": 0,
              "truncated_num_cols": 1
            },
            "dx_settings": {
              "LOG_LEVEL": 30,
              "DEV_MODE": false,
              "DISPLAY_MAX_ROWS": 50000,
              "DISPLAY_MAX_COLUMNS": 100,
              "HTML_TABLE_SCHEMA": false,
              "MAX_RENDER_SIZE_BYTES": 104857600,
              "SAMPLING_FACTOR": 0.1,
              "DISPLAY_MODE": "simple",
              "SAMPLING_METHOD": "random",
              "COLUMN_SAMPLING_METHOD": "outer",
              "ROW_SAMPLING_METHOD": "random",
              "RANDOM_STATE": 12648430,
              "RESET_INDEX_VALUES": false,
              "FLATTEN_INDEX_VALUES": false,
              "FLATTEN_COLUMN_VALUES": true,
              "STRINGIFY_INDEX_VALUES": false,
              "STRINGIFY_COLUMN_VALUES": true,
              "ENABLE_DATALINK": true,
              "ENABLE_RENAMER": true,
              "ENABLE_ASSIGNMENT": false,
              "NUM_PAST_SAMPLES_TRACKED": 3,
              "DB_LOCATION": ":memory:",
              "GENERATE_DEX_METADATA": false,
              "ALLOW_NOTEABLE_ATTRS": true
            },
            "display_id": "837be5bf-3289-458a-bd01-d6910d0bafce",
            "applied_filters": [],
            "sample_history": [],
            "sampling_time": "2023-02-02T21:56:24.007998",
            "variable_name": "unk_dataframe_a8dbb900a6c543f0bd5a380a3303546e"
          }
        },
        "dx": {
          "fieldMetadata": {
            "index": {
              "columnPosition": 1
            },
            "Class": {
              "columnPosition": 2,
              "sort": "desc"
            }
          },
          "views": [
            {
              "type": "public",
              "id": "first-view",
              "userID": "",
              "facets": [],
              "confoRules": [],
              "annotationRules": [],
              "chartMode": "grid",
              "chart": {},
              "decoration": {
                "footer": "",
                "subtitle": "",
                "title": "Table"
              },
              "filterSettings": {
                "SHOW_FILTER_PANEL": true,
                "filters": []
              },
              "isDefault": true
            },
            {
              "type": "public",
              "id": "first-view",
              "userID": "",
              "facets": [],
              "confoRules": [],
              "annotationRules": [],
              "chartMode": "grid",
              "chart": {},
              "decoration": {
                "footer": "",
                "subtitle": "",
                "title": "Table"
              },
              "filterSettings": {
                "SHOW_FILTER_PANEL": true,
                "filters": []
              },
              "isDefault": true,
              "isTransitory": true
            }
          ],
          "dashboard": {
            "multiViews": []
          },
          "updated": 1675374971437
        }
      },
      "id": "9bc44910-e94d-463c-808b-6c6f074de6d4"
    },
    {
      "cell_type": "code",
      "source": [
        "for feature in corr_top_features:\n",
        "    sb.boxplot(data=[class_nf[feature], class_f[feature]])\n",
        "    plt.title(\"Fraud Class by \"+feature)\n",
        "    plt.xticks([0,1], [\"Not fraud\", \"Fraud\"])\n",
        "    plt.ylim(-25,5)\n",
        "    plt.show()"
      ],
      "outputs": [],
      "execution_count": null,
      "metadata": {
        "jupyter": {
          "outputs_hidden": false,
          "source_hidden": false
        },
        "noteable": {
          "cell_type": "code"
        },
        "ExecuteTime": {
          "start_time": "2023-02-02T22:21:07.228222+00:00",
          "end_time": "2023-02-02T22:21:09.247564+00:00"
        },
        "scrolled": false
      },
      "id": "68f82c19-6249-44ee-b2ff-93174939cb1e"
    },
    {
      "cell_type": "markdown",
      "source": [
        "It is clear from these box plots that there is an inverse relationship between each of these highly predictive features and the target <b>Class</b>.\n",
        "\n",
        "Fraudulent transactions seem to have lower values of <b>['V3', 'V16', 'V10', 'V7', 'V12', 'V14', 'V17']</b>. We cannot interpret what this means in context, as we don't have any description of the features. However, if I did have knowledge of what the features are, I would look conduct a sanity check to ensure that the inverse relationhip makes sense."
      ],
      "metadata": {
        "noteable": {
          "cell_type": "markdown"
        }
      },
      "id": "4f1f8947-a0fa-4c52-a258-5bc7242dd0bb"
    },
    {
      "cell_type": "markdown",
      "source": [
        "# <b>Step 4:</b> Baseline Model Development\n",
        "\n",
        "Now we will build a baseline model to use to iterate on. We will start with a basic <b>decision tree</b>."
      ],
      "metadata": {
        "noteable": {
          "cell_type": "markdown"
        }
      },
      "id": "65521109-448a-4608-a433-30f7f48d7e77"
    },
    {
      "cell_type": "code",
      "source": [
        "\n",
        "####MODEL TYPE: DECISION TREE\n",
        "##Now time to train a decision tree model\n",
        "##Not going to do any cross validation yet until I work on tuning the hyperparameters using grid search\n",
        "regressor = DecisionTreeClassifier()\n",
        "regressor.fit(X_train_standardized[corr_top_features], y_train)\n",
        "\n",
        "y_pred = regressor.predict(X_test_standardized[corr_top_features])\n",
        "df = pd.DataFrame({'Real Values':y_test, 'Predicted Values':y_pred})\n",
        "\n",
        "# The score method returns the accuracy of the model\n",
        "score = regressor.score(X_test[corr_top_features], y_test)\n",
        "print(score)"
      ],
      "outputs": [],
      "execution_count": null,
      "metadata": {
        "noteable": {
          "cell_type": "python"
        },
        "ExecuteTime": {
          "end_time": "2023-02-02T02:47:05.170124+00:00",
          "start_time": "2023-02-02T02:47:02.856563+00:00"
        }
      },
      "id": "b895fe26-8d74-4135-8f95-38636cd41b8f"
    },
    {
      "cell_type": "code",
      "source": [
        "##GBM\n",
        "GB=GradientBoostingClassifier()\n",
        "gb_model=GB.fit(X_train_standardized,y_train)\n",
        "gb_smote_prediction=gb_model.predict(X_test_standardized[corr_top_features])\n"
      ],
      "outputs": [],
      "execution_count": null,
      "metadata": {
        "jupyter": {
          "source_hidden": false,
          "outputs_hidden": false
        },
        "noteable": {
          "cell_type": "code"
        },
        "ExecuteTime": {
          "start_time": "2023-02-02T22:23:05.347091+00:00",
          "end_time": "2023-02-02T22:23:06.495700+00:00"
        }
      },
      "id": "e17ed413-6f7c-4959-9cc0-5c569c27146f"
    },
    {
      "cell_type": "markdown",
      "source": [
        "https://medium.com/towards-data-science/task-cheatsheet-for-almost-every-machine-learning-project-d0946861c6d0\n",
        "\n",
        "****keep thinking about the \"problem\" Perhaps I want to \"tier\" the models so that there is a model that catches more transactions, and one that is more accurate (precision vs. recall);\n",
        "\n",
        "SHAPLEY VALUES"
      ],
      "metadata": {
        "noteable": {
          "cell_type": "markdown"
        }
      },
      "id": "f6fee57a-aca5-4879-8dde-041e242424c7"
    }
  ],
  "metadata": {
    "selected_hardware_size": "small",
    "noteable": {
      "last_transaction_id": "30d6e9f0-e798-4017-9523-17c211f5e902",
      "db_connection": "@noteable",
      "last_delta_id": "6aba729d-5c47-44d6-b26f-0b940b9e79b3"
    },
    "nteract": {
      "version": "noteable@2.9.0"
    }
  },
  "nbformat": 4,
  "nbformat_minor": 5
}