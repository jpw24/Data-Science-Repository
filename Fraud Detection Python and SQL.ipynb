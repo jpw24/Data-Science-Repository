{
  "cells": [
    {
      "cell_type": "markdown",
      "source": [
        "# Fraudulent Transaction Monitoring\n",
        "\n",
        "This notebook provides an end-to-end approach to fraud detection in credit card transactions.\n",
        "\n",
        "This data comes from Kaggle, and you can access the link here:\n",
        "https://www.kaggle.com/datasets/mlg-ulb/creditcardfraud\n",
        "\n",
        "Thank you for visiting my page!"
      ],
      "metadata": {
        "noteable": {
          "cell_type": "markdown"
        }
      },
      "id": "657557ee"
    },
    {
      "cell_type": "markdown",
      "source": [
        "# Analytical Steps\n",
        "\n",
        "Below are the steps I take to conduct this analysis.\n",
        "\n",
        "* <b>Step 1:</b> Packages and Dataset Import\n",
        "* <b>Step 2:</b> Target, Predictors, and Train-Test Split\n",
        "* <b>Step 3:</b> Exploratory Data Analysis\n",
        "* <b>Step 4:</b> Baseline Model Development\n"
      ],
      "metadata": {
        "noteable": {
          "cell_type": "markdown"
        }
      },
      "id": "ca61cd1c-089d-4458-931d-953345258936"
    },
    {
      "cell_type": "markdown",
      "source": [
        "# Step 1. Packages and Dataset Import"
      ],
      "metadata": {
        "noteable": {
          "cell_type": "markdown"
        }
      },
      "id": "b39ada01-46e4-4712-9d90-dd22cc6edbef"
    },
    {
      "cell_type": "code",
      "source": [
        "####Import required python packages\n",
        "from collections import Counter\n",
        "from matplotlib import pyplot as plt\n",
        "import plotly.express as px\n",
        "import seaborn as sb\n",
        "\n",
        "import numpy as np\n",
        "import pandas as pd\n",
        "\n",
        "import sklearn as sklearn\n",
        "from sklearn import svm\n",
        "from sklearn.model_selection import train_test_split,KFold,TimeSeriesSplit,cross_val_score\n",
        "from sklearn.tree import DecisionTreeClassifier\n",
        "from sklearn.metrics import precision_score,recall_score,f1_score,classification_report\n",
        "from sklearn.linear_model import LogisticRegression\n",
        "from sklearn.datasets import make_classification\n",
        "from sklearn.ensemble import RandomForestClassifier, GradientBoostingClassifier\n",
        "from sklearn.neighbors import KNeighborsClassifier\n",
        "from sklearn.preprocessing import StandardScaler,RobustScaler\n",
        "\n",
        "# Oversampling and under sampling\n",
        "# from imblearn.over_sampling import RandomOverSampler, SMOTE\n",
        "# from imblearn.under_sampling import RandomUnderSampler, NearMiss\n",
        "\n",
        "import scipy.stats as stats"
      ],
      "outputs": [],
      "execution_count": null,
      "metadata": {
        "noteable": {
          "cell_type": "python"
        },
        "ExecuteTime": {
          "start_time": "2023-02-07T23:25:20.378899+00:00",
          "end_time": "2023-02-07T23:25:24.290019+00:00"
        }
      },
      "id": "6b53a7bd-44c7-4479-b8ed-e03b45141bb4"
    },
    {
      "cell_type": "code",
      "source": [
        "%%sql @noteable\n",
        "/*Using SQL to query the dataset*/\n",
        "SELECT*\n",
        "FROM 'Scratch Data Sets, Articles and Ideas/Credit Card Fraud.csv'"
      ],
      "outputs": [],
      "execution_count": null,
      "metadata": {
        "noteable": {
          "assign_results_to": "sql_df_1",
          "cell_type": "sql",
          "db_connection": "@noteable"
        },
        "ExecuteTime": null
      },
      "id": "f6be3a4e-f15b-4cc7-9b7a-f17d88fa8e5c"
    },
    {
      "cell_type": "code",
      "source": [
        "##read in the data set using pandas\n",
        "fraud_df=pd.read_csv(r\"Scratch Data Sets, Articles and Ideas/Credit Card Fraud.csv\")"
      ],
      "outputs": [],
      "execution_count": null,
      "metadata": {
        "jupyter": {
          "outputs_hidden": false,
          "source_hidden": false
        },
        "noteable": {
          "cell_type": "code"
        },
        "ExecuteTime": {
          "end_time": "2023-02-07T01:25:36.885250+00:00",
          "start_time": "2023-02-07T01:25:34.956451+00:00"
        },
        "dx": {
          "dashboard": {
            "multiViews": []
          },
          "fieldMetadata": {},
          "updated": 1674933880379,
          "views": [
            {
              "annotationRules": [],
              "chart": {},
              "chartMode": "grid",
              "confoRules": [],
              "decoration": {
                "footer": "",
                "subtitle": "",
                "title": "Table"
              },
              "facets": [],
              "filterSettings": {
                "SHOW_FILTER_PANEL": true,
                "filters": []
              },
              "id": "first-view",
              "isDefault": true,
              "type": "public",
              "userID": ""
            },
            {
              "annotationRules": [],
              "chart": {},
              "chartMode": "grid",
              "confoRules": [],
              "decoration": {
                "footer": "",
                "subtitle": "",
                "title": "Table"
              },
              "facets": [],
              "filterSettings": {
                "SHOW_FILTER_PANEL": true,
                "filters": []
              },
              "id": "first-view",
              "isDefault": true,
              "isTransitory": true,
              "type": "public",
              "userID": ""
            }
          ]
        }
      },
      "id": "5e2de7de-2114-42af-9130-647f008fa155"
    },
    {
      "cell_type": "code",
      "source": [
        "fraud_df.set_index('Time',inplace=True)\n",
        "fraud_df.sort_index(inplace=True)\n",
        "\n",
        "y=fraud_df['Class']\n",
        "X=fraud_df.drop(labels='Class',axis=1)"
      ],
      "outputs": [],
      "execution_count": null,
      "metadata": {
        "noteable": {
          "cell_type": "python"
        },
        "ExecuteTime": {
          "end_time": "2023-02-07T01:25:43.108299+00:00",
          "start_time": "2023-02-07T01:25:42.810953+00:00"
        },
        "jupyter": {
          "outputs_hidden": false
        }
      },
      "id": "0491b2e1-2726-420d-93f3-7f4d50f4f406"
    },
    {
      "cell_type": "markdown",
      "source": [
        "# Step 2. Target, Predictors, and Train-Test Split\n",
        "\n",
        "The <b>Time</b> column contains the time at which the transaction was completed. This is the column on which we will divide our train and test samples, because this mirrors how we will detect fraud in reality.\n",
        "\n",
        "The <b>Class</b> column contains the fraud indicator. We notice this is imbalanced so we may have to adjust our sample to achieve reasonable model performance scores.\n",
        "\n",
        "We will set <b>Time</b> as the index of the dataframe and <b>Class</b> as the Y variable."
      ],
      "metadata": {
        "noteable": {
          "cell_type": "markdown"
        }
      },
      "id": "9ffbda1d-263d-4555-a8f5-d74f0968e495"
    },
    {
      "cell_type": "markdown",
      "source": [
        "First we'll create a train and test split on the sample."
      ],
      "metadata": {
        "noteable": {
          "cell_type": "markdown"
        }
      },
      "id": "753c296a-df02-4d0d-9601-0098f2ac8ae0"
    },
    {
      "cell_type": "code",
      "source": [
        "tss=TimeSeriesSplit(n_splits=2)\n",
        "\n",
        "train_split_indices,test_split_indices=tss.split(X)\n",
        "X_train,X_test=X.iloc[train_split_indices[1],:],X.iloc[test_split_indices[1],:]\n",
        "y_train,y_test=y.iloc[train_split_indices[1]],y.iloc[test_split_indices[1]]"
      ],
      "outputs": [],
      "execution_count": null,
      "metadata": {
        "jupyter": {
          "outputs_hidden": false,
          "source_hidden": false
        },
        "noteable": {
          "cell_type": "code"
        },
        "ExecuteTime": {
          "end_time": "2023-02-07T01:27:30.161113+00:00",
          "start_time": "2023-02-07T01:27:29.978985+00:00"
        }
      },
      "id": "06617961-a8c5-4bd4-b3af-9793896999a8"
    },
    {
      "cell_type": "code",
      "source": [
        "##Potential Delete\n",
        "# X_train,X_test,y_train,y_test=train_test_split(X,y,test_size=.2,random_state=42)"
      ],
      "outputs": [],
      "execution_count": null,
      "metadata": {
        "jupyter": {
          "outputs_hidden": false,
          "source_hidden": false
        },
        "noteable": {
          "cell_type": "code"
        },
        "ExecuteTime": {
          "end_time": "2023-02-05T22:56:48.122802+00:00",
          "start_time": "2023-02-05T22:56:47.916752+00:00"
        }
      },
      "id": "5c63e1ec-c649-43bd-a18d-a48236f93100"
    },
    {
      "cell_type": "markdown",
      "source": [
        "We can see this time series split in a plot below."
      ],
      "metadata": {
        "noteable": {
          "cell_type": "markdown"
        }
      },
      "id": "3f543f09-1244-4a54-ab9c-748e61344a0e"
    },
    {
      "cell_type": "code",
      "source": [
        "y_train.groupby('Time').mean().plot()\n",
        "y_test.groupby('Time').mean().plot()"
      ],
      "outputs": [],
      "execution_count": null,
      "metadata": {
        "noteable": {
          "cell_type": "python"
        }
      },
      "id": "19a929b9-b8af-4db9-b6c7-a6ed6f2ebe15"
    },
    {
      "cell_type": "markdown",
      "source": [
        "Now we'll create the cross-validation splits on the sample. We will use this for hyperparameter tuning after we make a model selection"
      ],
      "metadata": {
        "noteable": {
          "cell_type": "markdown"
        }
      },
      "id": "7d768bab-9d22-4165-b59d-d4b5597d50f8"
    },
    {
      "cell_type": "code",
      "source": [
        "##TIME SERIES CROSS VALIDATION\n",
        "cross_val_tss=TimeSeriesSplit(n_splits=5)\n",
        "\n",
        "##these are the 5 folds we created based on the time\n",
        "for i, (train_index, test_index) in enumerate(cross_val_tss.split(X)):\n",
        "    print(f\"Fold {i}:\")\n",
        "    print(f\"  Train: index={train_index}\")\n",
        "    print(f\"  Test:  index={test_index}\")\n"
      ],
      "outputs": [],
      "execution_count": null,
      "metadata": {
        "jupyter": {
          "outputs_hidden": false,
          "source_hidden": false
        },
        "noteable": {
          "cell_type": "code"
        },
        "ExecuteTime": {
          "end_time": "2023-02-07T01:29:33.310951+00:00",
          "start_time": "2023-02-07T01:29:33.151124+00:00"
        }
      },
      "id": "3cf78221-ee62-4aeb-871e-11c150b1e6a0"
    },
    {
      "cell_type": "code",
      "source": [
        "##POTENTIAL DELETE##\n",
        "##CROSS VALIDATION\n",
        "# kf=KFold(n_splits=5)\n",
        "\n",
        "# ##these are the 5 folds we created based on the time\n",
        "# for i, (train_index, test_index) in enumerate(kf.split(X)):\n",
        "#     print(f\"Fold {i}:\")\n",
        "#     print(f\"  Train: index={train_index}\")\n",
        "#     print(f\"  Test:  index={test_index}\")\n"
      ],
      "outputs": [],
      "execution_count": null,
      "metadata": {
        "jupyter": {
          "outputs_hidden": true,
          "source_hidden": false
        },
        "noteable": {
          "cell_type": "code"
        },
        "ExecuteTime": {
          "end_time": "2023-02-05T22:56:51.113985+00:00",
          "start_time": "2023-02-05T22:56:50.917154+00:00"
        }
      },
      "id": "ca6d56c3-c6c1-4c02-9ab9-811f66f34de3"
    },
    {
      "cell_type": "markdown",
      "source": [
        "# Step 3. Exploratory Data Analysis\n",
        "I will now begin conducting the exploratory data analysis phase. I will begin understanding the basis of the data, missing values, anomalies and what each column represents."
      ],
      "metadata": {
        "noteable": {
          "cell_type": "markdown"
        }
      },
      "id": "654754f2-f1bb-41bf-8f40-c320d79b5aea"
    },
    {
      "cell_type": "code",
      "source": [
        "fraud_df.describe()"
      ],
      "outputs": [],
      "execution_count": null,
      "metadata": {
        "noteable": {
          "cell_type": "python"
        },
        "ExecuteTime": {
          "end_time": "2023-02-01T01:23:13.526464+00:00",
          "start_time": "2023-02-01T01:23:12.900037+00:00"
        },
        "jupyter": {
          "outputs_hidden": true
        }
      },
      "id": "ce139d58-7ca2-41d7-a4ce-612873a1a20f"
    },
    {
      "cell_type": "code",
      "source": [
        "##Checking for missing values\n",
        "fraud_df.isnull().values.any()"
      ],
      "outputs": [],
      "execution_count": null,
      "metadata": {
        "jupyter": {
          "outputs_hidden": false,
          "source_hidden": false
        },
        "noteable": {
          "cell_type": "code"
        },
        "ExecuteTime": {
          "end_time": "2023-02-01T01:23:21.056938+00:00",
          "start_time": "2023-02-01T01:23:20.888442+00:00"
        }
      },
      "id": "0e0774c2-88c9-4519-8c0a-5da5d4e849d5"
    },
    {
      "cell_type": "markdown",
      "source": [
        "There are no missing values."
      ],
      "metadata": {
        "noteable": {
          "cell_type": "markdown"
        }
      },
      "id": "2e58faa5-397b-48de-a2ca-edc5f6ac3bab"
    },
    {
      "cell_type": "code",
      "source": [
        "fraud_df.shape"
      ],
      "outputs": [],
      "execution_count": null,
      "metadata": {
        "jupyter": {
          "outputs_hidden": false,
          "source_hidden": false
        },
        "noteable": {
          "cell_type": "code"
        },
        "ExecuteTime": {
          "end_time": "2023-02-07T01:31:42.142922+00:00",
          "start_time": "2023-02-07T01:31:41.984510+00:00"
        }
      },
      "id": "e9413f24-daef-45f6-b847-8ec6c670ded1"
    },
    {
      "cell_type": "code",
      "source": [
        "fraud_df.columns"
      ],
      "outputs": [],
      "execution_count": null,
      "metadata": {
        "jupyter": {
          "outputs_hidden": false,
          "source_hidden": false
        },
        "noteable": {
          "cell_type": "code"
        },
        "ExecuteTime": {
          "end_time": "2023-02-07T01:31:46.164331+00:00",
          "start_time": "2023-02-07T01:31:46.006057+00:00"
        }
      },
      "id": "a5609bf2-479e-403c-986a-738b720a3eb1"
    },
    {
      "cell_type": "markdown",
      "source": [
        "<b>Observations</b>:\n",
        "It appears that there are no discrete variables and no missing values. Because we do not have the variable names (they were removed), we cannot make any judgements about these columns. Additionally, we want to retain each outlier, because it could be an indicator of fraudulent activity."
      ],
      "metadata": {
        "noteable": {
          "cell_type": "markdown"
        }
      },
      "id": "466c6e80-9ab5-42d7-bf1e-88f070b0ff4b"
    },
    {
      "cell_type": "markdown",
      "source": [
        "## Correlations Between Features\n",
        "We'll now understand the correlations between features, as well as between each feature and the target variable."
      ],
      "metadata": {
        "noteable": {
          "cell_type": "markdown"
        }
      },
      "id": "fef5d3c0-208f-4ed6-b045-c499d12ecc97"
    },
    {
      "cell_type": "code",
      "source": [
        "fraud_df.corr()"
      ],
      "outputs": [],
      "execution_count": null,
      "metadata": {
        "noteable": {
          "cell_type": "python"
        },
        "ExecuteTime": {
          "end_time": "2023-02-07T01:31:50.024150+00:00",
          "start_time": "2023-02-07T01:31:48.999085+00:00"
        },
        "dx": {
          "dashboard": {
            "multiViews": []
          },
          "fieldMetadata": {},
          "updated": 1675132826563,
          "views": [
            {
              "annotationRules": [],
              "chart": {
                "tableSparklines": false,
                "tableStatistics": false
              },
              "chartMode": "grid",
              "confoRules": [],
              "decoration": {
                "footer": "",
                "subtitle": "",
                "title": "Table"
              },
              "facets": [],
              "filterSettings": {
                "SHOW_FILTER_PANEL": true,
                "filters": []
              },
              "id": "first-view",
              "isComment": false,
              "isDefault": true,
              "isTransitory": false,
              "type": "public",
              "userID": ""
            }
          ]
        },
        "jupyter": {
          "outputs_hidden": false
        }
      },
      "id": "30af3e4f-5478-42c4-8302-160e9026b065"
    },
    {
      "cell_type": "markdown",
      "source": [
        "Now we can observe correlations through a heatmap."
      ],
      "metadata": {
        "noteable": {
          "cell_type": "markdown"
        }
      },
      "id": "21669d06-d469-42e9-a9ef-077259af24e2"
    },
    {
      "cell_type": "code",
      "source": [
        "dataplot= sb.heatmap(fraud_df.corr(),cmap=\"YlGnBu\",cbar=False)\n",
        "plt.show()"
      ],
      "outputs": [],
      "execution_count": null,
      "metadata": {
        "jupyter": {
          "outputs_hidden": false,
          "source_hidden": false
        },
        "noteable": {
          "cell_type": "code"
        },
        "ExecuteTime": {
          "end_time": "2023-02-05T22:30:27.944385+00:00",
          "start_time": "2023-02-05T22:30:26.576886+00:00"
        },
        "scrolled": false
      },
      "id": "24a95cb6-8924-4c49-bd16-449ec8902ddb"
    },
    {
      "cell_type": "markdown",
      "source": [
        "We note that there is not much correlation between the \"V...\" features. However, several of the features correlate with <b>Amount</b> and <b>Class</b> (which is our target).\n",
        "\n",
        "Before we move to selecting the features that have high correlations with the target, we are going to standardize every feature. Because we will likely have outliers, we need to use a scaling approach that can be robust to outliers. We will use the <b>RobustScaler</b> approach."
      ],
      "metadata": {
        "noteable": {
          "cell_type": "markdown"
        }
      },
      "id": "9f0d60dd-5531-4cd4-8d46-7953eb68c7d3"
    },
    {
      "cell_type": "code",
      "source": [
        "robust_scaler_train=RobustScaler()\n",
        "robust_scaler_test=RobustScaler()\n",
        "\n",
        "X_train_standardized=robust_scaler_train.fit_transform(X_train)\n",
        "X_train_standardized = pd.DataFrame(X_train_standardized, columns=X_train.columns)\n",
        "\n",
        "X_test_standardized=robust_scaler_test.fit_transform(X_test)\n",
        "X_test_standardized = pd.DataFrame(X_test_standardized, columns=X_test.columns)\n"
      ],
      "outputs": [],
      "execution_count": null,
      "metadata": {
        "noteable": {
          "cell_type": "python"
        },
        "ExecuteTime": {
          "end_time": "2023-02-07T01:32:06.508889+00:00",
          "start_time": "2023-02-07T01:32:06.052781+00:00"
        }
      },
      "id": "8840111d-4462-48b5-a65f-bc212b17bb28"
    },
    {
      "cell_type": "markdown",
      "source": [
        "Now we will assess correlation of these features with the target variable, using the point-biserial correlation coefficient, which assesses correlation between a categorical variable and continuous variables. We will set a threshold of <b>.2 as the minimum correlation for a feature to be considered in our model</b>. We may adjust this value later."
      ],
      "metadata": {
        "noteable": {
          "cell_type": "markdown"
        }
      },
      "id": "7d40158a-2a18-4025-a946-7e5215ab2ba2"
    },
    {
      "cell_type": "code",
      "source": [
        "\n",
        "point_bi_serial_list=X_train_standardized\n",
        "point_bi_serial_threshold = .2\n",
        "pointbiserialr=stats.pointbiserialr\n",
        "corr_data=pd.DataFrame()\n",
        "for i in point_bi_serial_list:\n",
        "    pbc=pointbiserialr(y_train,X_train_standardized[i])\n",
        "    corr_temp_data=[[i,pbc.correlation,\"point_bi_serial\"]]\n",
        "    corr_temp_df=pd.DataFrame(corr_temp_data,columns=['Feature','Correlation','Correlation_Type'])\n",
        "    corr_data=corr_data.append(corr_temp_df)\n",
        "\n",
        "# Filter NA and sort based on absolute correlation\n",
        "corr_data = corr_data.iloc[corr_data.Correlation.abs().argsort()]\n",
        "corr_data = corr_data[corr_data['Correlation'].notna()]\n",
        "corr_data = corr_data.loc[corr_data['Correlation'] != 1]\n",
        "\n",
        "# Add thresholds\n",
        "\n",
        "# initialize list of lists\n",
        "data = [['point_bi_serial', point_bi_serial_threshold]]\n",
        "threshold_df=pd.DataFrame(data,columns=[\"Correlation_Type\",\"Threshold\"])\n",
        "corr_data=pd.merge(corr_data,threshold_df,on=[\"Correlation_Type\"],how=\"left\")\n",
        "corr_data2 = corr_data.loc[corr_data['Correlation'].abs() > corr_data['Threshold']]\n",
        "corr_top_features = corr_data2['Feature'].tolist()\n",
        "\n",
        "corr_top_features"
      ],
      "outputs": [],
      "execution_count": null,
      "metadata": {
        "jupyter": {
          "outputs_hidden": false,
          "source_hidden": false
        },
        "noteable": {
          "cell_type": "code"
        },
        "ExecuteTime": {
          "end_time": "2023-02-07T01:32:13.211199+00:00",
          "start_time": "2023-02-07T01:32:12.046963+00:00"
        }
      },
      "id": "5962825d-b428-4a5c-8e8c-b5af8a1a4fc5"
    },
    {
      "cell_type": "markdown",
      "source": [
        "Now, we'll use the feature scaling to create some boxplots that demonstrate the relationship between each feature and our target. First we have to convert <b>y_train</b> to a categorical variable."
      ],
      "metadata": {
        "noteable": {
          "cell_type": "markdown"
        }
      },
      "id": "6edaf4ad-679e-48a0-809e-16fe343b05d6"
    },
    {
      "cell_type": "code",
      "source": [
        "#potential delete\n",
        "# fraud_df"
      ],
      "outputs": [],
      "execution_count": null,
      "metadata": {
        "jupyter": {
          "outputs_hidden": false,
          "source_hidden": false
        },
        "noteable": {
          "cell_type": "code"
        },
        "ExecuteTime": {
          "end_time": "2023-02-05T22:43:21.389662+00:00",
          "start_time": "2023-02-05T22:43:17.875353+00:00"
        },
        "dx": {
          "dashboard": {
            "multiViews": []
          },
          "fieldMetadata": {
            "Amount": {
              "columnPosition": 30
            },
            "Time": {
              "columnPosition": 1
            },
            "V1": {
              "columnPosition": 2
            },
            "V10": {
              "columnPosition": 11
            },
            "V11": {
              "columnPosition": 12
            },
            "V12": {
              "columnPosition": 13
            },
            "V13": {
              "columnPosition": 14
            },
            "V14": {
              "columnPosition": 15
            },
            "V15": {
              "columnPosition": 16
            },
            "V16": {
              "columnPosition": 17
            },
            "V17": {
              "columnPosition": 18
            },
            "V18": {
              "columnPosition": 19
            },
            "V19": {
              "columnPosition": 20
            },
            "V2": {
              "columnPosition": 3
            },
            "V20": {
              "columnPosition": 21
            },
            "V21": {
              "columnPosition": 22
            },
            "V22": {
              "columnPosition": 23
            },
            "V23": {
              "columnPosition": 24
            },
            "V24": {
              "columnPosition": 25
            },
            "V25": {
              "columnPosition": 26
            },
            "V26": {
              "columnPosition": 27
            },
            "V27": {
              "columnPosition": 28
            },
            "V28": {
              "columnPosition": 29
            },
            "V3": {
              "columnPosition": 4
            },
            "V4": {
              "columnPosition": 5
            },
            "V5": {
              "columnPosition": 6
            },
            "V6": {
              "columnPosition": 7
            },
            "V7": {
              "columnPosition": 8
            },
            "V8": {
              "columnPosition": 9
            },
            "V9": {
              "columnPosition": 10
            }
          },
          "updated": 1675636982136,
          "views": [
            {
              "annotationRules": [],
              "chart": {},
              "chartMode": "grid",
              "confoRules": [],
              "decoration": {
                "footer": "",
                "subtitle": "",
                "title": "Table"
              },
              "facets": [],
              "filterSettings": {
                "SHOW_FILTER_PANEL": true,
                "filters": []
              },
              "id": "first-view",
              "isDefault": true,
              "type": "public",
              "userID": ""
            },
            {
              "annotationRules": [],
              "chart": {},
              "chartMode": "grid",
              "confoRules": [],
              "decoration": {
                "footer": "",
                "subtitle": "",
                "title": "Table"
              },
              "facets": [],
              "filterSettings": {
                "SHOW_FILTER_PANEL": true,
                "filters": []
              },
              "id": "first-view",
              "isDefault": true,
              "isTransitory": true,
              "type": "public",
              "userID": ""
            }
          ]
        }
      },
      "id": "5a9736df-fa53-429e-80be-6be15fa7c624"
    },
    {
      "cell_type": "code",
      "source": [
        "#potential delete\n",
        "# X_train_standardized"
      ],
      "outputs": [],
      "execution_count": null,
      "metadata": {
        "jupyter": {
          "outputs_hidden": false,
          "source_hidden": false
        },
        "noteable": {
          "cell_type": "code"
        },
        "ExecuteTime": {
          "end_time": "2023-02-05T22:44:05.042824+00:00",
          "start_time": "2023-02-05T22:44:01.893843+00:00"
        },
        "dx": {
          "dashboard": {
            "multiViews": []
          },
          "fieldMetadata": {
            "Amount": {
              "columnPosition": 30
            },
            "V1": {
              "columnPosition": 2
            },
            "V10": {
              "columnPosition": 11
            },
            "V11": {
              "columnPosition": 12
            },
            "V12": {
              "columnPosition": 13
            },
            "V13": {
              "columnPosition": 14
            },
            "V14": {
              "columnPosition": 15
            },
            "V15": {
              "columnPosition": 16
            },
            "V16": {
              "columnPosition": 17
            },
            "V17": {
              "columnPosition": 18
            },
            "V18": {
              "columnPosition": 19
            },
            "V19": {
              "columnPosition": 20
            },
            "V2": {
              "columnPosition": 3
            },
            "V20": {
              "columnPosition": 21
            },
            "V21": {
              "columnPosition": 22
            },
            "V22": {
              "columnPosition": 23
            },
            "V23": {
              "columnPosition": 24
            },
            "V24": {
              "columnPosition": 25
            },
            "V25": {
              "columnPosition": 26
            },
            "V26": {
              "columnPosition": 27
            },
            "V27": {
              "columnPosition": 28
            },
            "V28": {
              "columnPosition": 29
            },
            "V3": {
              "columnPosition": 4
            },
            "V4": {
              "columnPosition": 5
            },
            "V5": {
              "columnPosition": 6
            },
            "V6": {
              "columnPosition": 7
            },
            "V7": {
              "columnPosition": 8
            },
            "V8": {
              "columnPosition": 9
            },
            "V9": {
              "columnPosition": 10
            },
            "index": {
              "columnPosition": 1,
              "width": 274
            }
          },
          "updated": 1675637101255,
          "views": [
            {
              "annotationRules": [],
              "chart": {},
              "chartMode": "grid",
              "confoRules": [],
              "decoration": {
                "footer": "",
                "subtitle": "",
                "title": "Table"
              },
              "facets": [],
              "filterSettings": {
                "SHOW_FILTER_PANEL": true,
                "filters": []
              },
              "id": "first-view",
              "isDefault": true,
              "type": "public",
              "userID": ""
            },
            {
              "annotationRules": [],
              "chart": {},
              "chartMode": "grid",
              "confoRules": [],
              "decoration": {
                "footer": "",
                "subtitle": "",
                "title": "Table"
              },
              "facets": [],
              "filterSettings": {
                "SHOW_FILTER_PANEL": true,
                "filters": []
              },
              "id": "first-view",
              "isDefault": true,
              "isTransitory": true,
              "type": "public",
              "userID": ""
            }
          ]
        }
      },
      "id": "b11d82ef-224c-4769-9270-792f36af640f"
    },
    {
      "cell_type": "code",
      "source": [
        "#potential delete\n",
        "# corr_train"
      ],
      "outputs": [],
      "execution_count": null,
      "metadata": {
        "jupyter": {
          "outputs_hidden": false,
          "source_hidden": false
        },
        "noteable": {
          "cell_type": "code"
        },
        "ExecuteTime": {
          "end_time": "2023-02-05T22:55:05.570030+00:00",
          "start_time": "2023-02-05T22:55:02.075465+00:00"
        },
        "dx": {
          "dashboard": {
            "multiViews": []
          },
          "fieldMetadata": {
            "Amount": {
              "columnPosition": 30
            },
            "V1": {
              "columnPosition": 2
            },
            "V10": {
              "columnPosition": 11
            },
            "V11": {
              "columnPosition": 12
            },
            "V12": {
              "columnPosition": 13
            },
            "V13": {
              "columnPosition": 14
            },
            "V14": {
              "columnPosition": 15
            },
            "V15": {
              "columnPosition": 16
            },
            "V16": {
              "columnPosition": 17
            },
            "V17": {
              "columnPosition": 18
            },
            "V18": {
              "columnPosition": 19
            },
            "V19": {
              "columnPosition": 20
            },
            "V2": {
              "columnPosition": 3
            },
            "V20": {
              "columnPosition": 21
            },
            "V21": {
              "columnPosition": 22
            },
            "V22": {
              "columnPosition": 23
            },
            "V23": {
              "columnPosition": 24
            },
            "V24": {
              "columnPosition": 25
            },
            "V25": {
              "columnPosition": 26
            },
            "V26": {
              "columnPosition": 27
            },
            "V27": {
              "columnPosition": 28
            },
            "V28": {
              "columnPosition": 29
            },
            "V3": {
              "columnPosition": 4
            },
            "V4": {
              "columnPosition": 5
            },
            "V5": {
              "columnPosition": 6
            },
            "V6": {
              "columnPosition": 7
            },
            "V7": {
              "columnPosition": 8
            },
            "V8": {
              "columnPosition": 9
            },
            "V9": {
              "columnPosition": 10
            },
            "index": {
              "columnPosition": 1,
              "width": 363
            }
          },
          "updated": 1675637749516,
          "views": [
            {
              "annotationRules": [],
              "chart": {},
              "chartMode": "grid",
              "confoRules": [],
              "decoration": {
                "footer": "",
                "subtitle": "",
                "title": "Table"
              },
              "facets": [],
              "filterSettings": {
                "SHOW_FILTER_PANEL": true,
                "filters": []
              },
              "id": "first-view",
              "isDefault": true,
              "type": "public",
              "userID": ""
            },
            {
              "annotationRules": [],
              "chart": {},
              "chartMode": "grid",
              "confoRules": [],
              "decoration": {
                "footer": "",
                "subtitle": "",
                "title": "Table"
              },
              "facets": [],
              "filterSettings": {
                "SHOW_FILTER_PANEL": true,
                "filters": []
              },
              "id": "first-view",
              "isDefault": true,
              "isTransitory": true,
              "type": "public",
              "userID": ""
            }
          ]
        }
      },
      "id": "821181c3-7a52-4b2e-8efb-cd13bf2ed437"
    },
    {
      "cell_type": "code",
      "source": [
        "# corr_train=X_train_standardized\n",
        "# fraud_df.columns\n",
        "standardized_cols=[col for col in fraud_df.columns if \"V\" in col or \"Amount\" in col]\n",
        "fraud_df_subset=fraud_df[standardized_cols]\n",
        "rs=RobustScaler()\n",
        "fraud_df_subset_scaled=rs.fit_transform(fraud_df_subset)\n",
        "fraud_df_standardized=fraud_df\n",
        "fraud_df_standardized[standardized_cols]=fraud_df_subset_scaled"
      ],
      "outputs": [],
      "execution_count": null,
      "metadata": {
        "jupyter": {
          "outputs_hidden": true,
          "source_hidden": false
        },
        "noteable": {
          "cell_type": "code"
        },
        "ExecuteTime": {
          "end_time": "2023-02-07T01:39:36.184197+00:00",
          "start_time": "2023-02-07T01:39:30.369092+00:00"
        },
        "scrolled": false,
        "dx": {
          "dashboard": {
            "multiViews": []
          },
          "fieldMetadata": {
            "Amount": {
              "columnPosition": 30
            },
            "Class": {
              "columnPosition": 2,
              "sort": "asc"
            },
            "Time": {
              "columnPosition": 1
            },
            "V1": {
              "columnPosition": 2
            },
            "V10": {
              "columnPosition": 11
            },
            "V11": {
              "columnPosition": 12
            },
            "V12": {
              "columnPosition": 13
            },
            "V13": {
              "columnPosition": 14
            },
            "V14": {
              "columnPosition": 15
            },
            "V15": {
              "columnPosition": 16
            },
            "V16": {
              "columnPosition": 17
            },
            "V17": {
              "columnPosition": 18
            },
            "V18": {
              "columnPosition": 19
            },
            "V19": {
              "columnPosition": 20
            },
            "V2": {
              "columnPosition": 3
            },
            "V20": {
              "columnPosition": 21
            },
            "V21": {
              "columnPosition": 22
            },
            "V22": {
              "columnPosition": 23
            },
            "V23": {
              "columnPosition": 24
            },
            "V24": {
              "columnPosition": 25
            },
            "V25": {
              "columnPosition": 26
            },
            "V26": {
              "columnPosition": 27
            },
            "V27": {
              "columnPosition": 28
            },
            "V28": {
              "columnPosition": 29
            },
            "V3": {
              "columnPosition": 4
            },
            "V4": {
              "columnPosition": 5
            },
            "V5": {
              "columnPosition": 6
            },
            "V6": {
              "columnPosition": 7
            },
            "V7": {
              "columnPosition": 8
            },
            "V8": {
              "columnPosition": 9
            },
            "V9": {
              "columnPosition": 10
            }
          },
          "updated": 1675734046615,
          "views": [
            {
              "annotationRules": [],
              "chart": {},
              "chartMode": "grid",
              "confoRules": [],
              "decoration": {
                "footer": "",
                "subtitle": "",
                "title": "Table"
              },
              "facets": [],
              "filterSettings": {
                "SHOW_FILTER_PANEL": true,
                "filters": []
              },
              "id": "first-view",
              "isDefault": true,
              "type": "public",
              "userID": ""
            },
            {
              "annotationRules": [],
              "chart": {},
              "chartMode": "grid",
              "confoRules": [],
              "decoration": {
                "footer": "",
                "subtitle": "",
                "title": "Table"
              },
              "facets": [],
              "filterSettings": {
                "SHOW_FILTER_PANEL": true,
                "filters": []
              },
              "id": "first-view",
              "isDefault": true,
              "isTransitory": true,
              "type": "public",
              "userID": ""
            }
          ]
        }
      },
      "id": "86768b92-852f-4feb-a2a7-99f61d1175bf"
    },
    {
      "cell_type": "code",
      "source": [
        "class_nf = fraud_df_standardized[fraud_df_standardized['Class'] == 0]\n",
        "class_f = fraud_df_standardized[fraud_df_standardized['Class'] == 1]"
      ],
      "outputs": [],
      "execution_count": null,
      "metadata": {
        "jupyter": {
          "outputs_hidden": false,
          "source_hidden": false
        },
        "noteable": {
          "cell_type": "code"
        },
        "ExecuteTime": {
          "end_time": "2023-02-07T01:41:10.740765+00:00",
          "start_time": "2023-02-07T01:41:10.456539+00:00"
        },
        "dx": {
          "dashboard": {
            "multiViews": []
          },
          "fieldMetadata": {
            "Class": {
              "columnPosition": 2,
              "sort": "desc"
            },
            "index": {
              "columnPosition": 1
            }
          },
          "updated": 1675374971437,
          "views": [
            {
              "annotationRules": [],
              "chart": {},
              "chartMode": "grid",
              "confoRules": [],
              "decoration": {
                "footer": "",
                "subtitle": "",
                "title": "Table"
              },
              "facets": [],
              "filterSettings": {
                "SHOW_FILTER_PANEL": true,
                "filters": []
              },
              "id": "first-view",
              "isDefault": true,
              "type": "public",
              "userID": ""
            },
            {
              "annotationRules": [],
              "chart": {},
              "chartMode": "grid",
              "confoRules": [],
              "decoration": {
                "footer": "",
                "subtitle": "",
                "title": "Table"
              },
              "facets": [],
              "filterSettings": {
                "SHOW_FILTER_PANEL": true,
                "filters": []
              },
              "id": "first-view",
              "isDefault": true,
              "isTransitory": true,
              "type": "public",
              "userID": ""
            }
          ]
        },
        "scrolled": false
      },
      "id": "9bc44910-e94d-463c-808b-6c6f074de6d4"
    },
    {
      "cell_type": "code",
      "source": [
        "for feature in corr_top_features:\n",
        "    sb.boxplot(data=[class_nf[feature], class_f[feature]])\n",
        "    plt.title(\"Fraud Class by \"+feature)\n",
        "    plt.xticks([0,1], [\"Not fraud\", \"Fraud\"])\n",
        "    plt.ylim(-25,5)\n",
        "    plt.show()"
      ],
      "outputs": [],
      "execution_count": null,
      "metadata": {
        "jupyter": {
          "outputs_hidden": false,
          "source_hidden": false
        },
        "noteable": {
          "cell_type": "code"
        },
        "ExecuteTime": {
          "end_time": "2023-02-07T01:41:17.677508+00:00",
          "start_time": "2023-02-07T01:41:15.457695+00:00"
        },
        "scrolled": false
      },
      "id": "68f82c19-6249-44ee-b2ff-93174939cb1e"
    },
    {
      "cell_type": "markdown",
      "source": [
        "It is clear from these box plots that there is an inverse relationship between each of these highly predictive features and the target <b>Class</b>.\n",
        "\n",
        "Fraudulent transactions seem to have lower values of <b>['V3', 'V16', 'V10', 'V7', 'V12', 'V14', 'V17']</b>. We cannot interpret what this means in context, as we don't have any description of the features. However, if I did have knowledge of what the features are, I would look conduct a sanity check to ensure that the inverse relationhip makes sense."
      ],
      "metadata": {
        "noteable": {
          "cell_type": "markdown"
        }
      },
      "id": "4f1f8947-a0fa-4c52-a258-5bc7242dd0bb"
    },
    {
      "cell_type": "markdown",
      "source": [
        "# <b>Step 4:</b> Baseline Model Development\n",
        "\n",
        "Now we will build a baseline model to use to iterate on. We will start with a basic <b>logistic regression</b>, and then we will move to a <b>decision tree</b>. To end our initial analysis, we will build a <b>support vecotr machine</b>."
      ],
      "metadata": {
        "noteable": {
          "cell_type": "markdown"
        }
      },
      "id": "65521109-448a-4608-a433-30f7f48d7e77"
    },
    {
      "cell_type": "markdown",
      "source": [
        "## Model Type: Decision Tree"
      ],
      "metadata": {
        "noteable": {
          "cell_type": "markdown"
        }
      },
      "id": "026c5161-ddf1-455d-ab78-57490115cfdc"
    },
    {
      "cell_type": "code",
      "source": [
        "model_scores={}\n",
        "####MODEL TYPE: DECISION TREE\n",
        "##Now time to train a decision tree model\n",
        "##Not going to do any cross validation yet until I work on tuning the hyperparameters using grid search\n",
        "decision_tree = DecisionTreeClassifier()\n",
        "decision_tree.fit(X_train_standardized[corr_top_features], y_train)\n",
        "\n",
        "y_pred = decision_tree.predict(X_test_standardized[corr_top_features])\n",
        "model_df = pd.DataFrame({'Real Values':y_test, 'Decision Tree Predicted Values':y_pred})\n",
        "\n",
        "# The score method returns the accuracy of the model\n",
        "score = decision_tree.score(X_test_standardized[corr_top_features], y_test)\n",
        "model_scores['Decision Tree']={'Accuracy':score}\n",
        "print(score)"
      ],
      "outputs": [],
      "execution_count": null,
      "metadata": {
        "noteable": {
          "cell_type": "python"
        },
        "ExecuteTime": {
          "end_time": "2023-02-07T02:02:13.724085+00:00",
          "start_time": "2023-02-07T02:02:11.626558+00:00"
        }
      },
      "id": "b895fe26-8d74-4135-8f95-38636cd41b8f"
    },
    {
      "cell_type": "markdown",
      "source": [
        "## Model Type: Logistic Regression"
      ],
      "metadata": {
        "noteable": {
          "cell_type": "markdown"
        }
      },
      "id": "7fe66736-957c-481b-8539-7777ebff8f44"
    },
    {
      "cell_type": "code",
      "source": [
        "####MODEL TYPE: Logistic Regression\n",
        "logistic=LogisticRegression()\n",
        "logistic.fit(X_train_standardized[corr_top_features], y_train)\n",
        "\n",
        "y_pred = logistic.predict(X_test_standardized[corr_top_features])\n",
        "model_df['Logistic Predicted Values']=y_pred\n",
        "score=logistic.score(X_test_standardized[corr_top_features],y_test)\n",
        "model_scores['Logistic Regression']={'Accuracy':score}\n",
        "print(score)"
      ],
      "outputs": [],
      "execution_count": null,
      "metadata": {
        "jupyter": {
          "outputs_hidden": false,
          "source_hidden": false
        },
        "noteable": {
          "cell_type": "code"
        },
        "ExecuteTime": {
          "end_time": "2023-02-07T02:03:30.913018+00:00",
          "start_time": "2023-02-07T02:03:29.756495+00:00"
        }
      },
      "id": "4dacb638-26bd-4903-a03c-85d5ba21285d"
    },
    {
      "cell_type": "markdown",
      "source": [
        "## Model Type: Support Vector Machine"
      ],
      "metadata": {
        "noteable": {
          "cell_type": "markdown"
        }
      },
      "id": "7b9918d0-e48e-4063-909f-9044d6489777"
    },
    {
      "cell_type": "code",
      "source": [
        "####MODEL TYPE: Support Vector Machine\n",
        "svm_model=svm.SVC(kernel='linear')\n",
        "svm_model.fit(X_train_standardized[corr_top_features],y_train)\n",
        "\n",
        "y_pred = svm_model.predict(X_test_standardized[corr_top_features])\n",
        "model_df['SVM Predicted Values']=y_pred\n",
        "score=svm_model.score(X_test_standardized[corr_top_features],y_test)\n",
        "model_scores['SVM']={'Accuracy':score}\n",
        "print(score)"
      ],
      "outputs": [],
      "execution_count": null,
      "metadata": {
        "jupyter": {
          "outputs_hidden": false,
          "source_hidden": false
        },
        "noteable": {
          "cell_type": "code"
        },
        "ExecuteTime": {
          "end_time": "2023-02-07T02:03:40.998943+00:00",
          "start_time": "2023-02-07T02:03:36.728793+00:00"
        }
      },
      "id": "5185e3d3-14c6-4685-b364-138faf08ffdb"
    },
    {
      "cell_type": "markdown",
      "source": [
        "## Assessing Baslines Model Performance Through Cross Validation\n",
        "Now we will conduct time series cross validation for each of the models. I'm creating a model called <b>CV_report</b> to report the cross-validation metrics. "
      ],
      "metadata": {
        "noteable": {
          "cell_type": "markdown"
        }
      },
      "id": "c3d31fe8-47a6-4531-87ba-f32e3569513a"
    },
    {
      "cell_type": "markdown",
      "source": [
        "#### Definitions of Performance Metrics\n",
        "\n",
        "<b>Accuracy</b>: Accuracy is calculated as the number of true positives (accurately identified fraud) plus true negatives (accurately identified non-fraud) divided by the total number of predictions.\n",
        "\n",
        "<b>Precision</b>: Precision is calculated as the number of true positives divided by the number of true positives plus false positives (incorrectly identified fraud).\n",
        "\n",
        "<b>Recall</b>: Recall is calculated as the number of true positives divided by the number of true positives plus false negatives (fraudulent transactions that were missed).\n",
        "\n",
        "<b>F1</b>: F1 is a measure of a model’s accuracy and precision. It is calculated as the harmonic mean of precision and recall.\n"
      ],
      "metadata": {
        "noteable": {
          "cell_type": "markdown"
        }
      },
      "id": "ba020695-bc39-4ed0-bbc5-852b0ab77a13"
    },
    {
      "cell_type": "code",
      "source": [
        "##Write Function\n",
        "def CV_report(n_folds,model):\n",
        "    tscv = TimeSeriesSplit(n_splits=n_folds)\n",
        "    scores_accuracy=cross_val_score(model,X,y,cv=tscv)\n",
        "    scores_precision=cross_val_score(model,X,y,cv=tscv,scoring='precision')\n",
        "    scores_recall=cross_val_score(model,X,y,cv=tscv,scoring='recall')\n",
        "    scores_f1=cross_val_score(model,X,y,cv=tscv,scoring='f1')\n",
        "    performance_metrics={'Accuracy':\n",
        "                         {'Mean':dt_scores_accuracy.mean(),\n",
        "                          'Standard Deviation':scores_accuracy.std()},\n",
        "                        'Precision':\n",
        "                         {'Mean':scores_precision.mean(),\n",
        "                          'Standard Deviation':scores_precision.std()},\n",
        "                        'Recall':\n",
        "                         {'Mean':scores_recall.mean(),\n",
        "                          'Standard Deviation':scores_recall.std()},\n",
        "                        'F1':\n",
        "                         {'Mean':scores_f1.mean(),\n",
        "                         'Standard Deviation':scores_f1.std()}  \n",
        "                                  }\n",
        "    return performance_metrics"
      ],
      "outputs": [],
      "execution_count": null,
      "metadata": {
        "jupyter": {
          "outputs_hidden": false,
          "source_hidden": false
        },
        "noteable": {
          "cell_type": "code"
        },
        "ExecuteTime": {
          "end_time": "2023-02-07T02:34:57.397797+00:00",
          "start_time": "2023-02-07T02:34:57.239116+00:00"
        }
      },
      "id": "0a53adb7-8f96-4ecc-b827-94e15cf44125"
    },
    {
      "cell_type": "code",
      "source": [
        "##Decision Tree Cross Validation Report\n",
        "cv_decision_tree=DecisionTreeClassifier()\n",
        "d_tree_report= CV_report(5,cv_decision_tree))\n",
        "print(d_tree_report)"
      ],
      "outputs": [],
      "execution_count": null,
      "metadata": {
        "jupyter": {
          "outputs_hidden": false,
          "source_hidden": false
        },
        "noteable": {
          "cell_type": "code"
        },
        "ExecuteTime": {
          "end_time": "2023-02-07T02:31:13.129515+00:00",
          "start_time": "2023-02-07T02:26:55.888829+00:00"
        }
      },
      "id": "d2b92b9a-266d-477e-b42d-7c4fc2eff6d3"
    },
    {
      "cell_type": "code",
      "source": [
        "##Logistic Regression Cross Validation Report\n",
        "cv_logistic=LogisticRegression()\n",
        "logistic_report=CV_report(5,cv_logistic)\n",
        "print(logistic_report)"
      ],
      "outputs": [],
      "execution_count": null,
      "metadata": {
        "jupyter": {
          "outputs_hidden": false,
          "source_hidden": false
        },
        "noteable": {
          "cell_type": "code"
        }
      },
      "id": "35905fc9-bcdc-4222-bcb3-62bcd87a9fbf"
    },
    {
      "cell_type": "code",
      "source": [
        "##Support Vector Machine Cross Validation Report\n",
        "cv_svm=svm.SVC(kernel='linear')\n",
        "svm_report=CV_report(5,cv_svm)\n",
        "print(svm_report)"
      ],
      "outputs": [],
      "execution_count": null,
      "metadata": {
        "jupyter": {
          "outputs_hidden": false,
          "source_hidden": false
        },
        "noteable": {
          "cell_type": "code"
        }
      },
      "id": "88eb0398-824a-41a7-a37a-18fd56bac96d"
    },
    {
      "cell_type": "markdown",
      "source": [
        "Below you will find a chart that demonstrates the performance metrics for each of the basic model types."
      ],
      "metadata": {
        "noteable": {
          "cell_type": "markdown"
        }
      },
      "id": "a0acf0f0-de68-4e0a-8dd3-b7a5771a03c4"
    },
    {
      "cell_type": "code",
      "source": [
        "accuracy_numbers=[d_tree_report['Accuracy']['Mean'],logistic_report['Accuracy']['Mean'],svm_report['Accuracy']['Mean']]\n",
        "precision_numbers=[d_tree_report['Precision']['Mean'],logistic_report['Precision']['Mean'],svm_report['Precision']['Mean']]\n",
        "recall_numbers=[d_tree_report['Recall']['Mean'],logistic_report['Recall']['Mean'],svm_report['Recall']['Mean']]\n",
        "F1_numbers=[d_tree_report['F1']['Mean'],logistic_report['F1']['Mean'],svm_report['F1']['Mean']]\n",
        "\n",
        "\n",
        "fig,ax=plt.subplots()\n",
        "\n",
        "ax.bar(range(3),accuracy_numbers,label=\"Accuracy\")\n",
        "ax.bar(range(3),precision_numbers,label=\"Precision\")\n",
        "ax.bar(range(3),recall_numbers,label=\"Recall\")\n",
        "ax.bar(range(3),F1_numbers,label=\"F1\")\n",
        "\n",
        "labels=['Decision Tree','Logistic Regression','Support Vector Machine']\n",
        "\n",
        "plt.xticks(range(len(labels)),labels)\n",
        "plt.xlabel('Model Types')\n",
        "plt.ylabel('Values')\n",
        "plt.title(\"model Performance Metrics\")\n",
        "plt.legend()\n",
        "pt.show()"
      ],
      "outputs": [],
      "execution_count": null,
      "metadata": {
        "jupyter": {
          "source_hidden": false,
          "outputs_hidden": false
        },
        "noteable": {
          "cell_type": "python"
        }
      },
      "id": "165f54c9-e6bf-4a96-88af-83938e7d78e0"
    },
    {
      "cell_type": "markdown",
      "source": [
        "#### Conclusion\n",
        "We want to ensure we capture more of the fraudulent transactions even if that means we identify non fraud as fraud. Therefore we should prioritize Recall. The best performing model in terms of Recall is _____."
      ],
      "metadata": {
        "noteable": {
          "cell_type": "markdown"
        }
      },
      "id": "d8e5c3d0-234d-4763-b6af-567f066af16e"
    },
    {
      "cell_type": "markdown",
      "source": [
        "\n",
        "\n",
        "\n",
        "TO DO: \n",
        "1. Add a definition of each of the model performance(accuracy, precision, recall, F1)\n",
        "2. Bar graph for model performance on each of the metrics\n",
        "3. Identify the features that have the most impact on the target using SHapley values\n",
        "\n",
        "\n",
        "https://medium.com/towards-data-science/task-cheatsheet-for-almost-every-machine-learning-project-d0946861c6d0\n",
        "\n",
        "****keep thinking about the \"problem\" Perhaps I want to \"tier\" the models so that there is a model that catches more transactions, and one that is more accurate (precision vs. recall);\n",
        "\n",
        "**BOOSTING WORKS BETTER THAN BAGGIN FOR IMBALANCED CLASSES\n",
        "\n",
        "SHAPLEY VALUES"
      ],
      "metadata": {
        "noteable": {
          "cell_type": "markdown"
        }
      },
      "id": "f6fee57a-aca5-4879-8dde-041e242424c7"
    },
    {
      "cell_type": "code",
      "source": [
        "##GBM\n",
        "GB=GradientBoostingClassifier()\n",
        "gb_model=GB.fit(X_train_standardized,y_train)\n",
        "gb_smote_prediction=gb_model.predict(X_test_standardized[corr_top_features])\n"
      ],
      "outputs": [],
      "execution_count": null,
      "metadata": {
        "jupyter": {
          "outputs_hidden": false,
          "source_hidden": false
        },
        "noteable": {
          "cell_type": "code"
        },
        "ExecuteTime": {
          "end_time": "2023-02-02T22:23:06.495700+00:00",
          "start_time": "2023-02-02T22:23:05.347091+00:00"
        }
      },
      "id": "e17ed413-6f7c-4959-9cc0-5c569c27146f"
    }
  ],
  "metadata": {
    "selected_hardware_size": "small",
    "noteable": {
      "last_transaction_id": "3749ebd9-5f6a-4f13-a246-a6f75cb98020",
      "db_connection": "@noteable",
      "last_delta_id": "1da3a4e1-045e-4b57-81a2-29301d7c51d9"
    },
    "nteract": {
      "version": "noteable@2.9.0"
    }
  },
  "nbformat": 4,
  "nbformat_minor": 5
}